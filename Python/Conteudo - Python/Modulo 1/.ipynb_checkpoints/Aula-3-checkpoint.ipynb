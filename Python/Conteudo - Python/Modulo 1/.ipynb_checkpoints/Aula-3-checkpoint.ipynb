{
 "cells": [
  {
   "cell_type": "markdown",
   "metadata": {},
   "source": [
    "# AULA - 3"
   ]
  },
  {
   "cell_type": "markdown",
   "metadata": {},
   "source": [
    "## Operações e comandos"
   ]
  },
  {
   "cell_type": "markdown",
   "metadata": {},
   "source": [
    "Neste notebook será abordado os temas:\n",
    "> If\n",
    "\n",
    "> Else\n",
    "\n",
    "> For\n",
    "\n",
    "> While"
   ]
  },
  {
   "cell_type": "markdown",
   "metadata": {},
   "source": [
    "### Comando: If\n"
   ]
  },
  {
   "cell_type": "markdown",
   "metadata": {},
   "source": [
    "O if é literalmente sua tradução, \"se\", se caso a condição passada para ele seja verdadeira, ele executará o bloco de código abaixo dele, caso seja falso ele ignorará o bloco e o programa prosseguirá."
   ]
  },
  {
   "cell_type": "code",
   "execution_count": 1,
   "metadata": {},
   "outputs": [
    {
     "name": "stdout",
     "output_type": "stream",
     "text": [
      "o x é igual a 10\n"
     ]
    }
   ],
   "source": [
    "x = 10\n",
    "if x == 10:\n",
    "    print('o x é igual a 10')"
   ]
  },
  {
   "cell_type": "code",
   "execution_count": 2,
   "metadata": {},
   "outputs": [],
   "source": [
    "if x == 5:\n",
    "    print('o x é igual a 10')"
   ]
  },
  {
   "cell_type": "markdown",
   "metadata": {},
   "source": [
    "Como pode ver, no caso onde a condição passada era falsa, o código passado foi pulado."
   ]
  },
  {
   "cell_type": "markdown",
   "metadata": {},
   "source": [
    "### Comando: Else\n"
   ]
  },
  {
   "cell_type": "markdown",
   "metadata": {},
   "source": [
    "O else é um complemento para o \"if\", ele não precisa de nenhuma condição, pois sempre vem depois de um ou mais \"ifs\", visto que ele so executará caso todos os \"ifs\" acima dele forem falso."
   ]
  },
  {
   "cell_type": "code",
   "execution_count": 3,
   "metadata": {},
   "outputs": [
    {
     "name": "stdout",
     "output_type": "stream",
     "text": [
      "o x não é igual a 10\n"
     ]
    }
   ],
   "source": [
    "if x == 5:\n",
    "    print('o x é igual a 10')\n",
    "else:\n",
    "    print('o x não é igual a 10')"
   ]
  },
  {
   "cell_type": "markdown",
   "metadata": {},
   "source": [
    "### Comando: Elif"
   ]
  },
  {
   "cell_type": "markdown",
   "metadata": {},
   "source": [
    "Este comando é uma mistura de ambos acima, sendo que ele é visto como um segundo if, onde ele testará a condição do primeiro \"if\" e, se for falsa, ele irá testar esse, caso também seja falsa, poderá ir para outro \"elif\", um else, ou apenas continuar o codigo."
   ]
  },
  {
   "cell_type": "code",
   "execution_count": 4,
   "metadata": {},
   "outputs": [
    {
     "name": "stdout",
     "output_type": "stream",
     "text": [
      "o x é igual a 10, executando o elif\n"
     ]
    }
   ],
   "source": [
    "if x == 5:\n",
    "    print('o x é igual a 5')\n",
    "elif x == 10:\n",
    "    print('o x é igual a 10, executando o elif')\n",
    "else: \n",
    "    print('x não atende nenhuma condição acima')"
   ]
  },
  {
   "cell_type": "markdown",
   "metadata": {},
   "source": [
    "### Comando: For"
   ]
  },
  {
   "cell_type": "markdown",
   "metadata": {},
   "source": [
    "O \"for\" é o primeiro comando de loop que vamos abordar, e sua estrutura, é necessaria a criação de uma variável para contagem, que noramalmente chamamos de \"i\", esta variável servirá apenas para percorrer algo. \n",
    "##### Obs: esta variavel de contagem só existe dentro do for. "
   ]
  },
  {
   "cell_type": "code",
   "execution_count": 5,
   "metadata": {},
   "outputs": [
    {
     "name": "stdout",
     "output_type": "stream",
     "text": [
      "0\n",
      "1\n",
      "2\n",
      "3\n",
      "4\n",
      "5\n",
      "6\n",
      "7\n",
      "8\n",
      "9\n"
     ]
    }
   ],
   "source": [
    "for i in range(10):\n",
    "    print(i)"
   ]
  },
  {
   "cell_type": "markdown",
   "metadata": {},
   "source": [
    "No caso acima a variável de contagem \"i\" começou no 0 e somou 1 até chegar em 10."
   ]
  },
  {
   "cell_type": "code",
   "execution_count": 6,
   "metadata": {},
   "outputs": [
    {
     "name": "stdout",
     "output_type": "stream",
     "text": [
      "32\n",
      "54\n",
      "65\n",
      "2\n",
      "245\n",
      "966\n",
      "65\n",
      "542\n",
      "2213\n",
      "112\n",
      "565\n",
      "754\n",
      "652\n"
     ]
    }
   ],
   "source": [
    "lista = [32,54,65,2,245,966,65,542,2213,112,565,754,652]\n",
    "for i in lista:\n",
    "    print(i)"
   ]
  },
  {
   "cell_type": "markdown",
   "metadata": {},
   "source": [
    "Já no caso acima, o for percorre toda a lista \"printando\" todo seu conteúdo."
   ]
  },
  {
   "cell_type": "markdown",
   "metadata": {},
   "source": [
    "### Método range()"
   ]
  },
  {
   "cell_type": "markdown",
   "metadata": {},
   "source": [
    "Este método foi visto no primeiro exemplo de \"for\", ele pode ser útil na ajuda da criação de listas e afins que ficariam grandes e longas para escrever na mão. Por exemplo:"
   ]
  },
  {
   "cell_type": "code",
   "execution_count": 7,
   "metadata": {},
   "outputs": [],
   "source": [
    "listaRange = list(range(0,25))"
   ]
  },
  {
   "cell_type": "code",
   "execution_count": 8,
   "metadata": {},
   "outputs": [
    {
     "data": {
      "text/plain": [
       "[0,\n",
       " 1,\n",
       " 2,\n",
       " 3,\n",
       " 4,\n",
       " 5,\n",
       " 6,\n",
       " 7,\n",
       " 8,\n",
       " 9,\n",
       " 10,\n",
       " 11,\n",
       " 12,\n",
       " 13,\n",
       " 14,\n",
       " 15,\n",
       " 16,\n",
       " 17,\n",
       " 18,\n",
       " 19,\n",
       " 20,\n",
       " 21,\n",
       " 22,\n",
       " 23,\n",
       " 24]"
      ]
     },
     "execution_count": 8,
     "metadata": {},
     "output_type": "execute_result"
    }
   ],
   "source": [
    "listaRange"
   ]
  },
  {
   "cell_type": "markdown",
   "metadata": {},
   "source": [
    "Como visto no exemplo acima, foi criada uma lista com 25 elementos, do 0 ao 24."
   ]
  },
  {
   "cell_type": "markdown",
   "metadata": {},
   "source": [
    "O range utiliza os 2 parâmetros passados a ele como um \"for\", lembrando que o primeiro parametro é incluido e o ultimo não, assim como a indexação de listas e afins."
   ]
  },
  {
   "cell_type": "markdown",
   "metadata": {},
   "source": [
    "### Comando: While"
   ]
  },
  {
   "cell_type": "markdown",
   "metadata": {},
   "source": [
    "Assim como o \"for\", o \"while\", também é um comando de loop, podendo ser usado para as mesmas finalidades, porém sendo mais ou menos efetivo dependendo da aplicação.\n",
    "\n",
    "A tradução de \"while\" é \"enquanto\" que ja desceve bem seu funcionamento. Uma condição será passada, e ele executará ae que esta condição seja verdadeira, por isso cuidado com seu uso, pois não é dificil deixar o programa preso e em loop com ele."
   ]
  },
  {
   "cell_type": "code",
   "execution_count": 12,
   "metadata": {},
   "outputs": [
    {
     "name": "stdout",
     "output_type": "stream",
     "text": [
      "o contador é igual a: 0\n",
      "o contador é igual a: 1\n",
      "o contador é igual a: 2\n",
      "o contador é igual a: 3\n",
      "o contador é igual a: 4\n"
     ]
    }
   ],
   "source": [
    "cont = 0\n",
    "while cont < 5:\n",
    "    print('o contador é igual a: {}'.format(cont))\n",
    "    cont = cont+1"
   ]
  },
  {
   "cell_type": "markdown",
   "metadata": {},
   "source": [
    "E tambem, diferentemente do \"for\", a variável de contagem precisa ser inicializada importa para o programa em si, já no \"for\" a variavel é descartada logo após o termino do loop."
   ]
  },
  {
   "cell_type": "markdown",
   "metadata": {},
   "source": [
    "-------------------------------------------------------------------------------------------------------------------------------"
   ]
  }
 ],
 "metadata": {
  "kernelspec": {
   "display_name": "Python 3",
   "language": "python",
   "name": "python3"
  },
  "language_info": {
   "codemirror_mode": {
    "name": "ipython",
    "version": 3
   },
   "file_extension": ".py",
   "mimetype": "text/x-python",
   "name": "python",
   "nbconvert_exporter": "python",
   "pygments_lexer": "ipython3",
   "version": "3.7.3"
  }
 },
 "nbformat": 4,
 "nbformat_minor": 2
}
